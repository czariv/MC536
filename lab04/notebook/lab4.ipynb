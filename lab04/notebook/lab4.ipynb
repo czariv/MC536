{
 "cells": [
  {
   "cell_type": "code",
   "execution_count": 1,
   "metadata": {},
   "outputs": [],
   "source": [
    "%defaultDatasource jdbc:h2:mem:db"
   ]
  },
  {
   "cell_type": "markdown",
   "metadata": {},
   "source": [
    "# Analisando o Uso de Medicamentos\n",
    "* Esta tarefa analisará os dados conforme três abordagens: análise do comportamento estatístico; análise de correlação entre pares; análise de correlação de variáveis.\n",
    "* A partir dos arquivos CSV que estão no diretórios /data/nhanes considere as seguintes tabelas SQL."
   ]
  },
  {
   "cell_type": "code",
   "execution_count": 2,
   "metadata": {},
   "outputs": [],
   "source": [
    "DROP Table IF EXISTS Person;\n",
    "DROP Table IF EXISTS Drug;\n",
    "DROP Table IF EXISTS DrugUse;"
   ]
  },
  {
   "cell_type": "code",
   "execution_count": 3,
   "metadata": {},
   "outputs": [],
   "source": [
    "CREATE TABLE Person (\n",
    "  Id VARCHAR(5) NOT NULL,\n",
    "  Gender INTEGER,\n",
    "  Age INTEGER,\n",
    "  PRIMARY KEY(Id)\n",
    ") AS SELECT\n",
    "    id,\n",
    "    gender,\n",
    "    age\n",
    "FROM CSVREAD('../../../data/nhanes/demographic-person.csv');\n",
    "\n",
    "CREATE TABLE Drug (\n",
    "  Code VARCHAR(6) NOT NULL,\n",
    "  Name VARCHAR(100) NOT NULL,\n",
    "  PRIMARY KEY(Code)\n",
    ") AS SELECT\n",
    "    code,\n",
    "    name\n",
    "FROM CSVREAD('../../../data/nhanes/medications-drug.csv');\n",
    "\n",
    "CREATE TABLE DrugUse (\n",
    "  PersonId VARCHAR(5) NOT NULL,\n",
    "  DrugCode VARCHAR(6) NOT NULL,\n",
    "  DaysUse INTEGER,\n",
    "  FOREIGN KEY(PersonId)\n",
    "    REFERENCES Person(Id)\n",
    "      ON DELETE NO ACTION\n",
    "      ON UPDATE NO ACTION,\n",
    "  FOREIGN KEY(DrugCode)\n",
    "    REFERENCES Drug(Code)\n",
    "      ON DELETE NO ACTION\n",
    "      ON UPDATE NO ACTION\n",
    ") AS SELECT\n",
    "    person_id,\n",
    "    drug_code,\n",
    "    days_use\n",
    "FROM CSVREAD('../../../data/nhanes/medications-use.csv');"
   ]
  },
  {
   "cell_type": "code",
   "execution_count": 4,
   "metadata": {},
   "outputs": [
    {
     "data": {
      "application/vnd.jupyter.widget-view+json": {
       "model_id": "2fb3b49c-cd3b-44f4-acf6-3c7db1777e25",
       "version_major": 2,
       "version_minor": 0
      },
      "method": "display_data"
     },
     "metadata": {},
     "output_type": "display_data"
    },
    {
     "data": {
      "application/vnd.jupyter.widget-view+json": {
       "model_id": "0ca678fe-3f0d-4326-b283-ea319a9c0491",
       "version_major": 2,
       "version_minor": 0
      },
      "method": "display_data"
     },
     "metadata": {},
     "output_type": "display_data"
    },
    {
     "data": {
      "application/vnd.jupyter.widget-view+json": {
       "model_id": "7f266e9b-428a-413c-9399-93ac339f602e",
       "version_major": 2,
       "version_minor": 0
      },
      "method": "display_data"
     },
     "metadata": {},
     "output_type": "display_data"
    }
   ],
   "source": [
    "SELECT * FROM Person;\n",
    "SELECT * FROM Drug;\n",
    "SELECT * FROM DrugUse"
   ]
  },
  {
   "cell_type": "markdown",
   "metadata": {},
   "source": [
    "# I. Análise de comportamento estatístico"
   ]
  },
  {
   "cell_type": "markdown",
   "metadata": {},
   "source": [
    "## 1) Contabilizando o uso de medicamentos\n",
    "\n",
    "* Liste o nome de todos os medicamentos e a quantidade de pessoas que usa cada um deles."
   ]
  },
  {
   "cell_type": "code",
   "execution_count": 5,
   "metadata": {},
   "outputs": [
    {
     "data": {
      "application/vnd.jupyter.widget-view+json": {
       "model_id": "6167fe31-8781-41d3-8273-2640d7825ceb",
       "version_major": 2,
       "version_minor": 0
      },
      "method": "display_data"
     },
     "metadata": {},
     "output_type": "display_data"
    }
   ],
   "source": [
    "SELECT D.Name, COUNT(*) qtd_usr\n",
    "    FROM Drug D, DrugUse DU\n",
    "    WHERE D.Code=DU.DrugCode\n",
    "    GROUP BY D.Name;"
   ]
  },
  {
   "cell_type": "markdown",
   "metadata": {},
   "source": [
    "## 2) Medicamento mais usado com VIEW\n",
    "\n",
    "* Informe o código do medicamento mais usado: fazendo uso de VIEW."
   ]
  },
  {
   "cell_type": "code",
   "execution_count": 6,
   "metadata": {},
   "outputs": [
    {
     "data": {
      "text/plain": [
       "d00732"
      ]
     },
     "execution_count": 6,
     "metadata": {},
     "output_type": "execute_result"
    }
   ],
   "source": [
    "CREATE VIEW DPU AS\n",
    "    SELECT DU.DrugCode code, COUNT(*) qtd_usr\n",
    "        FROM DrugUse DU\n",
    "        GROUP BY DU.DrugCode;\n",
    "        \n",
    "SELECT DPU.code\n",
    "    FROM DPU\n",
    "    WHERE DPU.qtd_usr IN (SELECT MAX(qtd_usr) FROM DPU);"
   ]
  },
  {
   "cell_type": "markdown",
   "metadata": {},
   "source": [
    "## 3) Medicamento mais usado sem VIEW\n",
    "\n",
    "* Informe o código do medicamento mais usado: sem fazer uso de VIEW."
   ]
  },
  {
   "cell_type": "code",
   "execution_count": 7,
   "metadata": {},
   "outputs": [
    {
     "data": {
      "text/plain": [
       "d00732"
      ]
     },
     "execution_count": 7,
     "metadata": {},
     "output_type": "execute_result"
    }
   ],
   "source": [
    "SELECT L.code\n",
    "        FROM (SELECT DU.DrugCode code, COUNT(*) qtd_usr\n",
    "            FROM DrugUse DU\n",
    "            GROUP BY DU.DrugCode) L\n",
    "        WHERE L.qtd_usr IN (SELECT MAX(qtd_usr) FROM (SELECT DU.DrugCode code, COUNT(*) qtd_usr\n",
    "                                                    FROM DrugUse DU\n",
    "                                                    GROUP BY DU.DrugCode));"
   ]
  },
  {
   "cell_type": "markdown",
   "metadata": {},
   "source": [
    "## 4) Nome do medicamento mais usado\n",
    "* Informe o nome do medicamento mais usado (uso de VIEW é opcional)."
   ]
  },
  {
   "cell_type": "code",
   "execution_count": 8,
   "metadata": {},
   "outputs": [
    {
     "data": {
      "text/plain": [
       "LISINOPRIL"
      ]
     },
     "execution_count": 8,
     "metadata": {},
     "output_type": "execute_result"
    }
   ],
   "source": [
    "CREATE VIEW NPU AS\n",
    "    SELECT D.Name code, COUNT(*) qtd_usr\n",
    "        FROM Drug D, DrugUse DU\n",
    "        WHERE D.Code=DU.DrugCode\n",
    "        GROUP BY D.Name;\n",
    "        \n",
    "SELECT NPU.code\n",
    "    FROM NPU\n",
    "    WHERE NPU.qtd_usr IN (SELECT MAX(qtd_usr) FROM NPU);"
   ]
  },
  {
   "cell_type": "markdown",
   "metadata": {},
   "source": [
    "## 5) Contabilizando quanto as pessoas usam de medicamento\n",
    "\n",
    "* Informe o número médio de uso de medicamento por pessoa."
   ]
  },
  {
   "cell_type": "code",
   "execution_count": 9,
   "metadata": {},
   "outputs": [
    {
     "data": {
      "text/plain": [
       "3"
      ]
     },
     "execution_count": 9,
     "metadata": {},
     "output_type": "execute_result"
    }
   ],
   "source": [
    "CREATE VIEW ADPU AS\n",
    "    SELECT DU.PersonId id, COUNT(*) qtd_drg\n",
    "        FROM DrugUse DU\n",
    "        GROUP BY DU.PersonId;\n",
    "        \n",
    "SELECT AVG(qtd_drg) FROM ADPU;"
   ]
  },
  {
   "cell_type": "markdown",
   "metadata": {},
   "source": [
    "## 6) Pessoas que usam mais do que a média\n",
    "\n",
    "* Liste o id das pessoas que usam mais medicamentos do que a média."
   ]
  },
  {
   "cell_type": "code",
   "execution_count": 10,
   "metadata": {},
   "outputs": [
    {
     "data": {
      "application/vnd.jupyter.widget-view+json": {
       "model_id": "fafe775c-508a-4bd8-82cc-992bf3e35f2c",
       "version_major": 2,
       "version_minor": 0
      },
      "method": "display_data"
     },
     "metadata": {},
     "output_type": "display_data"
    }
   ],
   "source": [
    "SELECT id\n",
    "    FROM ADPU\n",
    "    WHERE qtd_drg > (SELECT AVG(qtd_drg) FROM ADPU);"
   ]
  },
  {
   "cell_type": "markdown",
   "metadata": {},
   "source": [
    "## 7) Análise do uso de medicamento\n",
    "\n",
    "* Considere que um médico quer fazer responder a seguinte questão: pessoas tendem a usar mais medicamentos conforme ficam mais velhas?\n",
    "* Escreva uma query que ajude o médico a realizar esta análise."
   ]
  },
  {
   "cell_type": "code",
   "execution_count": 11,
   "metadata": {},
   "outputs": [],
   "source": [
    "CREATE VIEW UPA AS\n",
    "    SELECT P.Age age, COUNT(*) qtd_drg\n",
    "        FROM DrugUse DU, Person P\n",
    "        WHERE P.Id = DU.PersonId\n",
    "        GROUP BY DU.PersonId;\n",
    "\n",
    "CREATE VIEW TPA AS\n",
    "    SELECT P.Age age, COUNT(*) total_use\n",
    "        FROM DrugUse DU, Person P\n",
    "        WHERE P.Id = DU.PersonId\n",
    "        GROUP BY P.Age;\n",
    "\n",
    "CREATE VIEW APA AS\n",
    "    SELECT UPA.age age, AVG(qtd_drg) average_use\n",
    "        FROM UPA\n",
    "        GROUP BY age;"
   ]
  },
  {
   "cell_type": "code",
   "execution_count": 12,
   "metadata": {},
   "outputs": [
    {
     "data": {
      "application/vnd.jupyter.widget-view+json": {
       "model_id": "7c43369a-e2c3-462e-a339-556e29eac1fe",
       "version_major": 2,
       "version_minor": 0
      },
      "method": "display_data"
     },
     "metadata": {},
     "output_type": "display_data"
    }
   ],
   "source": [
    "SELECT APA.age, TPA.total_use, APA.average_use\n",
    "    FROM APA, TPA\n",
    "    WHERE APA.age = TPA.age\n",
    "    GROUP BY APA.age;"
   ]
  },
  {
   "cell_type": "markdown",
   "metadata": {},
   "source": [
    "# Navegando por Hierarquias\n",
    "\n",
    "A seguir exercícios envolvendo navegação por hierarquias."
   ]
  },
  {
   "cell_type": "markdown",
   "metadata": {},
   "source": [
    "# Marcadores e Taxonomia\n",
    "\n",
    "Considere o modelo para `Marcadores` e `Taxonomia`:\n",
    "\n",
    "![UML](marcadores-taxonomia-uml.png)\n",
    "\n",
    "![Relacional](marcadores-taxonomia-er.png)\n",
    "\n",
    "Considere as sentenças SQL a seguir para montar as tabelas de `Marcadores` e `Taxonomia`:"
   ]
  },
  {
   "cell_type": "code",
   "execution_count": 13,
   "metadata": {},
   "outputs": [],
   "source": [
    "DROP TABLE IF EXISTS Taxonomia;\n",
    "DROP TABLE IF EXISTS Marcadores;\n",
    "\n",
    "CREATE TABLE Taxonomia (\n",
    "  Categoria VARCHAR(50) NOT NULL,\n",
    "  Superior  VARCHAR(50),\n",
    "  PRIMARY KEY(Categoria),\n",
    "  FOREIGN KEY(Superior)\n",
    "    REFERENCES Taxonomia(Categoria)\n",
    "      ON DELETE NO ACTION\n",
    "      ON UPDATE CASCADE\n",
    ");\n",
    "\n",
    "CREATE TABLE Marcadores (\n",
    "  Titulo VARCHAR(50) NOT NULL,\n",
    "  Endereco VARCHAR(80) NOT NULL,\n",
    "  Acessos INTEGER,\n",
    "  Categoria VARCHAR(50) NOT NULL,\n",
    "  PRIMARY KEY(Titulo),\n",
    "  FOREIGN KEY(Categoria)\n",
    "    REFERENCES Taxonomia(Categoria)\n",
    "      ON DELETE NO ACTION\n",
    "      ON UPDATE CASCADE\n",
    ");"
   ]
  },
  {
   "cell_type": "markdown",
   "metadata": {},
   "source": [
    "As tabelas são preenchidas com as seguintes tuplas:"
   ]
  },
  {
   "cell_type": "code",
   "execution_count": 14,
   "metadata": {},
   "outputs": [],
   "source": [
    "INSERT INTO Taxonomia VALUES ('Geral', NULL);\n",
    "INSERT INTO Taxonomia VALUES ('Serviços', 'Geral');\n",
    "INSERT INTO Taxonomia VALUES ('Acadêmico', 'Geral');\n",
    "INSERT INTO Taxonomia VALUES ('Relacionamento', 'Geral');\n",
    "INSERT INTO Taxonomia VALUES ('Busca', 'Serviços');\n",
    "INSERT INTO Taxonomia VALUES ('Portal', 'Serviços');\n",
    "INSERT INTO Taxonomia VALUES ('Mail', 'Serviços');\n",
    "INSERT INTO Taxonomia VALUES ('Vendas', 'Serviços');\n",
    "INSERT INTO Taxonomia VALUES ('Universidade', 'Acadêmico');\n",
    "INSERT INTO Taxonomia VALUES ('CG', 'Acadêmico');\n",
    "INSERT INTO Taxonomia VALUES ('Sociedade', 'Acadêmico');\n",
    "INSERT INTO Taxonomia VALUES ('Rede Social', 'Relacionamento');\n",
    "INSERT INTO Taxonomia VALUES ('Marketplace', 'Vendas');\n",
    "INSERT INTO Taxonomia VALUES ('Loja', 'Vendas');\n",
    "INSERT INTO Taxonomia VALUES ('Notícias', 'Portal');\n",
    "INSERT INTO Taxonomia VALUES ('Agregador', 'Portal');\n",
    "\n",
    "INSERT INTO Marcadores VALUES ('Terra', 'http://www.terra.com.br', 295, 'Portal');\n",
    "INSERT INTO Marcadores VALUES ('POVRay', 'http://www.povray.org', 2, 'CG');\n",
    "INSERT INTO Marcadores VALUES ('SBC', 'http://www.sbc.org.br', 26, 'Sociedade');\n",
    "INSERT INTO Marcadores VALUES ('Correios', 'http://www.correios.com.br', 45, 'Serviços');\n",
    "INSERT INTO Marcadores VALUES ('GMail', 'http://www.gmail.com', 296, 'Mail');\n",
    "INSERT INTO Marcadores VALUES ('Google', 'http://www.google.com', 1590, 'Busca');\n",
    "INSERT INTO Marcadores VALUES ('Yahoo', 'http://www.yahoo.com', 134, 'Serviços');\n",
    "INSERT INTO Marcadores VALUES ('Orkut', 'http://www.orkut.com', 45, 'Rede Social');\n",
    "INSERT INTO Marcadores VALUES ('iBahia', 'http://www.ibahia.com', 3, 'Portal');\n",
    "INSERT INTO Marcadores VALUES ('Submarino', 'http://www.submarino.com.br', 320, 'Loja');\n",
    "INSERT INTO Marcadores VALUES ('Amazon', 'https://www.amazon.com.br', 410, 'Marketplace');\n",
    "INSERT INTO Marcadores VALUES ('Americanas', 'https://www.americanas.com.br', 320, 'Loja');\n",
    "INSERT INTO Marcadores VALUES ('Mercado Livre', 'https://www.mercadolivre.com.br', 500, 'Marketplace');\n",
    "INSERT INTO Marcadores VALUES ('G1', 'https://g1.globo.com', 1200, 'Notícias');\n",
    "INSERT INTO Marcadores VALUES ('Folha', 'https://www.folha.uol.com.br', 850, 'Notícias');\n",
    "INSERT INTO Marcadores VALUES ('Google News', 'https://news.google.com', 900, 'Agregador');\n",
    "INSERT INTO Marcadores VALUES ('Flipboard', 'https://flipboard.com', 950, 'Agregador');"
   ]
  },
  {
   "cell_type": "markdown",
   "metadata": {},
   "source": [
    "Conteúdo da tabela `Taxonomia`:"
   ]
  },
  {
   "cell_type": "code",
   "execution_count": 15,
   "metadata": {},
   "outputs": [
    {
     "data": {
      "application/vnd.jupyter.widget-view+json": {
       "model_id": "e5f601df-d9a1-4ab3-93a8-75d1b364ac1d",
       "version_major": 2,
       "version_minor": 0
      },
      "method": "display_data"
     },
     "metadata": {},
     "output_type": "display_data"
    }
   ],
   "source": [
    "SELECT * FROM Taxonomia;"
   ]
  },
  {
   "cell_type": "markdown",
   "metadata": {},
   "source": [
    "Conteúdo da tabela `Marcadores`:"
   ]
  },
  {
   "cell_type": "code",
   "execution_count": 16,
   "metadata": {},
   "outputs": [
    {
     "data": {
      "application/vnd.jupyter.widget-view+json": {
       "model_id": "305506f6-b5b0-496d-9f56-2f3f518a8bd9",
       "version_major": 2,
       "version_minor": 0
      },
      "method": "display_data"
     },
     "metadata": {},
     "output_type": "display_data"
    }
   ],
   "source": [
    "SELECT * FROM Marcadores;"
   ]
  },
  {
   "cell_type": "markdown",
   "metadata": {},
   "source": [
    "## Tarefa 1\n",
    "\n",
    "Escreva em SQL uma consulta que retorne os marcadores da categoria `Serviços`, sem considerar as categorias subordinadas."
   ]
  },
  {
   "cell_type": "code",
   "execution_count": 17,
   "metadata": {},
   "outputs": [
    {
     "data": {
      "application/vnd.jupyter.widget-view+json": {
       "model_id": "774e9de2-0bba-40a8-8745-302c09302715",
       "version_major": 2,
       "version_minor": 0
      },
      "method": "display_data"
     },
     "metadata": {},
     "output_type": "display_data"
    }
   ],
   "source": [
    "SELECT *\n",
    "    FROM Marcadores M\n",
    "    WHERE M.Categoria = 'Serviços';"
   ]
  },
  {
   "cell_type": "markdown",
   "metadata": {},
   "source": [
    "## Tarefa 2\n",
    "\n",
    "Escreva em SQL uma consulta que retorne os marcadores da categoria `Serviços`, considerando as categorias subordinadas."
   ]
  },
  {
   "cell_type": "code",
   "execution_count": 18,
   "metadata": {},
   "outputs": [],
   "source": [
    "CREATE VIEW S AS\n",
    "    SELECT T.Categoria ctgr\n",
    "    FROM Taxonomia T\n",
    "    WHERE T.Categoria = 'Serviços';"
   ]
  },
  {
   "cell_type": "code",
   "execution_count": 19,
   "metadata": {},
   "outputs": [],
   "source": [
    "CREATE VIEW FS AS\n",
    "    SELECT T.Categoria ctgr\n",
    "    FROM Taxonomia T, S\n",
    "    WHERE T.Superior = S.ctgr;"
   ]
  },
  {
   "cell_type": "code",
   "execution_count": 20,
   "metadata": {},
   "outputs": [],
   "source": [
    "CREATE VIEW FFS AS\n",
    "    SELECT T.Categoria ctgr\n",
    "    FROM Taxonomia T, FS\n",
    "    WHERE T.Superior = FS.ctgr;"
   ]
  },
  {
   "cell_type": "code",
   "execution_count": 21,
   "metadata": {},
   "outputs": [
    {
     "ename": "org.h2.jdbc.JdbcSQLException",
     "evalue": " Column \"FFS.CTGR\" not found; SQL statement",
     "output_type": "error",
     "text": "org.h2.jdbc.JdbcSQLException: Column \"FFS.CTGR\" not found; SQL statement:\nCREATE VIEW FFS AS\nSELECT T.Categoria ctgr\nFROM Taxonomia T, FS\nWHERE T.Superior = FFS.ctgr [42122-197]",
     "traceback": [
      "\u001b[1;31morg.h2.jdbc.JdbcSQLException: Column \"FFS.CTGR\" not found; SQL statement:\u001b[0;0m",
      "\u001b[1;31mCREATE VIEW FFS AS\u001b[0;0m",
      "\u001b[1;31mSELECT T.Categoria ctgr\u001b[0;0m",
      "\u001b[1;31mFROM Taxonomia T, FS\u001b[0;0m",
      "\u001b[1;31mWHERE T.Superior = FFS.ctgr [42122-197]\u001b[0;0m"
     ]
    }
   ],
   "source": [
    "CREATE VIEW FFS AS\n",
    "    SELECT T.Categoria ctgr\n",
    "    FROM Taxonomia T, FS\n",
    "    WHERE T.Superior = FFS.ctgr;"
   ]
  },
  {
   "cell_type": "code",
   "execution_count": 22,
   "metadata": {},
   "outputs": [],
   "source": [
    "CREATE VIEW SS AS\n",
    "    SELECT * FROM S\n",
    "    UNION\n",
    "    SELECT * FROM FS\n",
    "    UNION\n",
    "    SELECT * FROM FFS;"
   ]
  },
  {
   "cell_type": "code",
   "execution_count": 23,
   "metadata": {},
   "outputs": [
    {
     "data": {
      "application/vnd.jupyter.widget-view+json": {
       "model_id": "04fca20c-7558-48b0-9b97-e9f5fb1e1380",
       "version_major": 2,
       "version_minor": 0
      },
      "method": "display_data"
     },
     "metadata": {},
     "output_type": "display_data"
    }
   ],
   "source": [
    "SELECT *\n",
    "    FROM Marcadores M, SS\n",
    "    WHERE M.Categoria = SS.ctgr"
   ]
  }
 ],
 "metadata": {
  "kernelspec": {
   "display_name": "SQL",
   "language": "SQL",
   "name": "sql"
  },
  "language_info": {
   "codemirror_mode": "sql",
   "file_extension": ".sql",
   "mimetype": "",
   "name": "SQL",
   "nbconverter_exporter": "",
   "version": ""
  },
  "toc": {
   "base_numbering": 1,
   "nav_menu": {},
   "number_sections": false,
   "sideBar": false,
   "skip_h1_title": false,
   "title_cell": "Table of Contents",
   "title_sidebar": "Contents",
   "toc_cell": false,
   "toc_position": {},
   "toc_section_display": false,
   "toc_window_display": false
  }
 },
 "nbformat": 4,
 "nbformat_minor": 4
}
